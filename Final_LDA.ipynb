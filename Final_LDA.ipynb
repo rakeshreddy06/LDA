{
 "cells": [
  {
   "cell_type": "code",
   "execution_count": 10,
   "metadata": {},
   "outputs": [],
   "source": [
    "import argparse\n",
    "from matplotlib import pyplot as plt\n",
    "import numpy as np\n",
    "import pandas as pd"
   ]
  },
  {
   "cell_type": "code",
   "execution_count": 11,
   "metadata": {},
   "outputs": [],
   "source": [
    "class LDAModel:\n",
    "    def __init__(self, nComponents=2, regularization=0.01, solver=\"eigh\"):\n",
    "      self.nComponents = nComponents\n",
    "      self.regularization = regularization\n",
    "      self.solver = solver\n",
    "      self.Eigens = None \n",
    "      self.classes_ = None\n",
    "      self.classMeans = None\n",
    "    def fit(self, X, y):\n",
    "    \n",
    "      # this will find all the unique classes in the dataset\n",
    "      self.classes_ = np.unique(y)\n",
    "      # this will get the number of features in the dataset\n",
    "      n_features = X.shape[1]\n",
    "      \n",
    "      # this will  calculate the scatter and matrices\n",
    "      WithinScatterMtrx, BetweenScatterMtrx = self.calculate_scatter_matrices(X, y)\n",
    "      WithinScatterMtrx +=self.regularization * np.identity(n_features)\n",
    "      if self.solver == \"eigh\":\n",
    "      # this will calculate the eigens\n",
    "        eigenValues, eigenVectors = np.linalg.eigh(np.linalg.inv(WithinScatterMtrx).dot(BetweenScatterMtrx))\n",
    "      else:\n",
    "        eigenValues, eigenVectors = np.linalg.eig(np.linalg.inv(WithinScatterMtrx).dot(BetweenScatterMtrx))\n",
    "    \n",
    "    \n",
    "      # this will sort the eigens\n",
    "      \n",
    "     \n",
    "      sorted_indices = np.argsort(-eigenValues.real)\n",
    "      #decending order\n",
    "      eigenValues = eigenValues.real[sorted_indices]\n",
    "      eigenVectors = eigenVectors.real[:, sorted_indices]\n",
    "      \n",
    "      # this will select the top nComponents eigenvectors\n",
    "      if self.nComponents is not None:\n",
    "          eigenVectors = eigenVectors[:, :self.nComponents]\n",
    "      else:\n",
    "          self.nComponents = len(self.classes_) - 1\n",
    "          eigenVectors = eigenVectors[:, :self.nComponents]\n",
    "      \n",
    "      self.Eigens = eigenVectors\n",
    "      \n",
    "      # this will calculate the class means\n",
    "      XLDA = X.dot(self.Eigens)\n",
    "      # this will calculate mean of the class\n",
    "      self.classMeans = {cls: XLDA[y == cls].mean(axis=0) for cls in self.classes_}\n",
    "      \n",
    "      return self\n",
    "    #this will calculate the scatter matrices\n",
    "    def calculate_scatter_matrices(self,X_train, y_train):\n",
    "        speciesData = {label: X_train[y_train == label] for label in np.unique(y_train)}\n",
    "        dataMeanValues = {label: np.mean(speciesData[label], axis=0) for label in speciesData}\n",
    "\n",
    "    \n",
    "        MeanOverall = np.mean(X_train, axis=0).reshape(-1, 1)\n",
    "\n",
    "\n",
    "        n_features = X_train.shape[1]\n",
    "        WithinScatterMtrx = np.zeros((n_features, n_features))\n",
    "        BetweenScatterMtrx = np.zeros((n_features, n_features))\n",
    "\n",
    "\n",
    "        \n",
    "        for label, class_data in speciesData.items():\n",
    "            n_i = class_data.shape[0]\n",
    "            class_mean = dataMeanValues[label].reshape(n_features, 1)\n",
    "            \n",
    "        \n",
    "            for sample in class_data:\n",
    "                sample = sample.reshape(n_features, 1)\n",
    "                WithinScatterMtrx += (sample - class_mean).dot((sample - class_mean).T)\n",
    "            \n",
    "        \n",
    "            mean_diff = class_mean - MeanOverall\n",
    "            BetweenScatterMtrx += n_i * mean_diff.dot(mean_diff.T)\n",
    "\n",
    "        return WithinScatterMtrx, BetweenScatterMtrx\n",
    "    \n",
    "    def transform(self, X):\n",
    "        #this will transform the data to the LDA space\n",
    "        if self.Eigens is None:\n",
    "            raise ValueError(\"Model has not been fitted yet.\")\n",
    "        return X.dot(self.Eigens)\n",
    "    def get_params(self):\n",
    "        # this will return the parameters of the model\n",
    "        return {\n",
    "            'nComponents': self.nComponents,\n",
    "            'classes_': self.classes_,\n",
    "            'Eigens': self.Eigens,\n",
    "            'classMeans': self.classMeans\n",
    "        }"
   ]
  },
  {
   "cell_type": "code",
   "execution_count": 12,
   "metadata": {},
   "outputs": [],
   "source": [
    "class RDAModelResults:\n",
    "  #this is a class to handle the predictions\n",
    "  def __init__(self, model):\n",
    "      # this will initialize the model\n",
    "      self.model = model\n",
    "\n",
    "  def predict(self, X):\n",
    "     # this will transform the data to the LDA space\n",
    "      XLDA = self.model.transform(X)\n",
    "      predictions = []\n",
    "      # this will compute the distances to each class mean\n",
    "      for sample in XLDA:\n",
    "          distances = {cls: np.linalg.norm(sample - mean) for cls, mean in self.model.classMeans.items()}\n",
    "          # this will assign to the class with the nearest mean\n",
    "          predicted_class = min(distances, key=lambda k: distances[k])\n",
    "          predictions.append(predicted_class)\n",
    "      return np.array(predictions)"
   ]
  },
  {
   "cell_type": "code",
   "execution_count": 13,
   "metadata": {},
   "outputs": [],
   "source": [
    "#this will plot the LDA projection\n",
    "def plot_lda_projection(XLDA, y, title):\n",
    "\n",
    "    plt.figure(figsize=(8, 6))\n",
    "    for label in np.unique(y):\n",
    "        plt.scatter(XLDA[y == label, 0], XLDA[y == label, 1], label=f'Class {label}')\n",
    "    plt.title(title)\n",
    "    plt.xlabel('LD1')\n",
    "    if XLDA.shape[1] > 1:\n",
    "        plt.ylabel('LD2')\n",
    "    plt.legend()\n",
    "    plt.show()"
   ]
  },
  {
   "cell_type": "code",
   "execution_count": 14,
   "metadata": {},
   "outputs": [],
   "source": [
    "def manual_train_test_split(X, y, test_size=0.2, random_state=None):\n",
    "    if random_state is not None:\n",
    "        np.random.seed(random_state)\n",
    "    \n",
    "    indices = np.random.permutation(len(X))\n",
    "    test_size = int(len(X) * test_size)\n",
    "    train_indices = indices[test_size:]\n",
    "    test_indices = indices[:test_size]\n",
    "    \n",
    "    return X[train_indices], X[test_indices], y[train_indices], y[test_indices]\n"
   ]
  },
  {
   "cell_type": "code",
   "execution_count": 15,
   "metadata": {},
   "outputs": [
    {
     "name": "stdout",
     "output_type": "stream",
     "text": [
      "[[ 0.88389311  0.19586502  0.35753652 ...  0.55969629  0.93946935\n",
      "  -0.97848104]\n",
      " [ 0.50309684  0.40641447  0.32346101 ... -0.84236793 -1.27950266\n",
      "   0.24571517]\n",
      " [-0.0441948   1.56763255  1.05110868 ... -3.18970279  1.12013226\n",
      "   1.33277821]\n",
      " ...\n",
      " [ 8.9530117   6.45568569  9.15746661 ...  7.73010469  7.29285848\n",
      "   8.33342744]\n",
      " [ 7.69252773  9.14447362  7.36241476 ...  8.55549506  6.4758956\n",
      "   7.28877739]\n",
      " [ 7.67724183  7.35172242  6.5933604  ...  6.95932099  7.39514765\n",
      "   6.89892766]]\n",
      "[0 0 0 0 0 0 0 0 0 0 0 0 0 0 0 0 0 0 0 0 0 0 0 0 0 0 0 0 0 0 0 0 0 0 0 0 0\n",
      " 0 0 0 0 0 0 0 0 0 0 0 0 0 0 0 0 0 0 0 0 0 0 0 0 0 0 0 0 0 0 0 0 0 0 0 0 0\n",
      " 0 0 0 0 0 0 0 0 0 0 0 0 0 0 0 0 0 0 0 0 0 0 0 0 0 0 0 0 0 0 0 0 0 0 0 0 0\n",
      " 0 0 0 0 0 0 0 0 0 0 0 0 0 0 0 0 0 0 0 0 0 0 0 0 0 0 0 0 0 0 0 0 0 0 0 0 0\n",
      " 0 0 1 1 1 1 1 1 1 1 1 1 1 1 1 1 1 1 1 1 1 1 1 1 1 1 1 1 1 1 1 1 1 1 1 1 1\n",
      " 1 1 1 1 1 1 1 1 1 1 1 1 1 1 1 1 1 1 1 1 1 1 1 1 1 1 1 1 1 1 1 1 1 1 1 1 1\n",
      " 1 1 1 1 1 1 1 1 1 1 1 1 1 1 1 1 1 1 1 1 1 1 1 1 1 1 1 1 1 1 1 1 1 1 1 1 1\n",
      " 1 1 1 1 1 1 1 1 1 1 1 1 1 1 1 1 1 1 1 1 1 1 1 1 1 1 1 1 1 1 1 1 1 1 1 1 1\n",
      " 1 1 1 1 2 2 2 2 2 2 2 2 2 2 2 2 2 2 2 2 2 2 2 2 2 2 2 2 2 2 2 2 2 2 2 2 2\n",
      " 2 2 2 2 2 2 2 2 2 2 2 2 2 2 2 2 2 2 2 2 2 2 2 2 2 2 2 2 2 2 2 2 2 2 2 2 2\n",
      " 2 2 2 2 2 2 2 2 2 2 2 2 2 2 2 2 2 2 2 2 2 2 2 2 2 2 2 2 2 2 2 2 2 2 2 2 2\n",
      " 2 2 2 2 2 2 2 2 2 2 2 2 2 2 2 2 2 2 2 2 2 2 2 2 2 2 2 2 2 2 2 2 2 2 2 2 2\n",
      " 2 2 2 2 2 2 3 3 3 3 3 3 3 3 3 3 3 3 3 3 3 3 3 3 3 3 3 3 3 3 3 3 3 3 3 3 3\n",
      " 3 3 3 3 3 3 3 3 3 3 3 3 3 3 3 3 3 3 3 3 3 3 3 3 3 3 3 3 3 3 3 3 3 3 3 3 3\n",
      " 3 3 3 3 3 3 3 3 3 3 3 3 3 3 3 3 3 3 3 3 3 3 3 3 3 3 3 3 3 3 3 3 3 3 3 3 3\n",
      " 3 3 3 3 3 3 3 3 3 3 3 3 3 3 3 3 3 3 3 3 3 3 3 3 3 3 3 3 3 3 3 3 3 3 3 3 3\n",
      " 3 3 3 3 3 3 3 3 4 4 4 4 4 4 4 4 4 4 4 4 4 4 4 4 4 4 4 4 4 4 4 4 4 4 4 4 4\n",
      " 4 4 4 4 4 4 4 4 4 4 4 4 4 4 4 4 4 4 4 4 4 4 4 4 4 4 4 4 4 4 4 4 4 4 4 4 4\n",
      " 4 4 4 4 4 4 4 4 4 4 4 4 4 4 4 4 4 4 4 4 4 4 4 4 4 4 4 4 4 4 4 4 4 4 4 4 4\n",
      " 4 4 4 4 4 4 4 4 4 4 4 4 4 4 4 4 4 4 4 4 4 4 4 4 4 4 4 4 4 4 4 4 4 4 4 4 4\n",
      " 4 4 4 4 4 4 4 4 4 4]\n"
     ]
    }
   ],
   "source": [
    "df = pd.read_csv(\"generated_data.csv\", header=None)\n",
    "\n",
    "X_features = df.iloc[:, :-1].values #this is the training data\n",
    "y_labels= df .iloc[:, -1].values #this is the training labels\n",
    "print(X_features)\n",
    "print(y_labels)\n"
   ]
  },
  {
   "cell_type": "code",
   "execution_count": 16,
   "metadata": {},
   "outputs": [],
   "source": [
    "X_train, X_test, y_train, y_test = manual_train_test_split(X_features, y_labels, test_size=0.2, random_state=42)\n",
    "model = LDAModel(nComponents=5, regularization=0.05, solver=\"eigen\") \n",
    "model.fit(X_train, y_train)\n",
    "\n",
    "X_test_lda = model.transform(X_test)\n",
    "\n",
    "model_results = RDAModelResults(model)\n",
    "y_pred = model_results.predict(X_test)"
   ]
  },
  {
   "cell_type": "code",
   "execution_count": 17,
   "metadata": {},
   "outputs": [
    {
     "name": "stdout",
     "output_type": "stream",
     "text": [
      "Test Accuracy Evaluation: 100.00%\n"
     ]
    }
   ],
   "source": [
    "accuracy = np.mean(y_pred == y_test)\n",
    "print(f\"Test Accuracy Evaluation: {accuracy * 100:.2f}%\")"
   ]
  },
  {
   "cell_type": "code",
   "execution_count": 18,
   "metadata": {},
   "outputs": [
    {
     "data": {
      "image/png": "[encoded data removed]",
      "text/plain": [
       "<Figure size 800x600 with 1 Axes>"
      ]
     },
     "metadata": {},
     "output_type": "display_data"
    }
   ],
   "source": [
    "plot_lda_projection(X_test_lda, y_test, \"LDA Projection\")\n"
   ]
  }
 ],
 "metadata": {
  "kernelspec": {
   "display_name": "Python 3",
   "language": "python",
   "name": "python3"
  },
  "language_info": {
   "codemirror_mode": {
    "name": "ipython",
    "version": 3
   },
   "file_extension": ".py",
   "mimetype": "text/x-python",
   "name": "python",
   "nbconvert_exporter": "python",
   "pygments_lexer": "ipython3",
   "version": "3.12.0"
  }
 },
 "nbformat": 4,
 "nbformat_minor": 2
}
